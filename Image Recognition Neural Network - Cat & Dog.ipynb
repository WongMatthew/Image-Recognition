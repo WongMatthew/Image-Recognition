{
 "cells": [
  {
   "cell_type": "markdown",
   "id": "26765e3a",
   "metadata": {},
   "source": [
    "# Image Recognition using Neural Networks\n",
    "\n",
    "Dataset can be found [**here**](https://drive.google.com/file/d/1FTCTZaNkgmAyoQ2pZYR4LKxcXI4bLp00/view)"
   ]
  },
  {
   "cell_type": "code",
   "execution_count": 14,
   "id": "ebbd6357",
   "metadata": {},
   "outputs": [],
   "source": [
    "from tensorflow.keras.models import Sequential\n",
    "from tensorflow.keras.layers import Convolution2D\n",
    "from tensorflow.keras.layers import MaxPooling2D\n",
    "from tensorflow.keras.layers import Flatten\n",
    "from tensorflow.keras.layers import Dense\n",
    "from tensorflow.keras.preprocessing.image import ImageDataGenerator\n",
    "from matplotlib import pyplot as plt"
   ]
  },
  {
   "cell_type": "code",
   "execution_count": 2,
   "id": "2e03772d",
   "metadata": {},
   "outputs": [],
   "source": [
    "classifier = Sequential()\n",
    "\n",
    "classifier.add(Convolution2D(32, 3, 3, input_shape = (64, 64, 3), activation = 'relu'))\n",
    "classifier.add(MaxPooling2D(pool_size = (2, 2)))\n",
    "classifier.add(Flatten())\n",
    "classifier.add(Dense(128, activation = 'relu'))\n",
    "classifier.add(Dense(1, activation = 'sigmoid'))\n",
    "\n",
    "classifier.compile(optimizer = 'adam', loss = 'binary_crossentropy', metrics = ['accuracy'])"
   ]
  },
  {
   "cell_type": "code",
   "execution_count": 3,
   "id": "3d4e8039",
   "metadata": {},
   "outputs": [
    {
     "name": "stdout",
     "output_type": "stream",
     "text": [
      "Found 8000 images belonging to 2 classes.\n",
      "Found 2000 images belonging to 2 classes.\n"
     ]
    }
   ],
   "source": [
    "train_datagen = ImageDataGenerator(rescale = 1./255,\n",
    "                                   shear_range = 0.2,\n",
    "                                   zoom_range = 0.2,\n",
    "                                   horizontal_flip = True)\n",
    "\n",
    "test_datagen = ImageDataGenerator(rescale = 1./255)\n",
    "\n",
    "training_set = train_datagen.flow_from_directory('dataset/dataset/training_set',\n",
    "                                                 target_size = (64, 64),\n",
    "                                                 batch_size = 32,\n",
    "                                                 class_mode = 'binary')\n",
    "\n",
    "test_set = test_datagen.flow_from_directory('dataset/dataset/test_set',\n",
    "                                            target_size = (64, 64),\n",
    "                                            batch_size = 32,\n",
    "                                            class_mode = 'binary')"
   ]
  },
  {
   "cell_type": "code",
   "execution_count": 4,
   "id": "41a2f2d2",
   "metadata": {},
   "outputs": [
    {
     "name": "stdout",
     "output_type": "stream",
     "text": [
      "WARNING:tensorflow:From <ipython-input-4-7de5c763304f>:1: Model.fit_generator (from tensorflow.python.keras.engine.training) is deprecated and will be removed in a future version.\n",
      "Instructions for updating:\n",
      "Please use Model.fit, which supports generators.\n",
      "Epoch 1/10\n",
      "50/50 [==============================] - 25s 491ms/step - loss: 0.6893 - accuracy: 0.5531 - val_loss: 0.6646 - val_accuracy: 0.6065\n",
      "Epoch 2/10\n",
      "50/50 [==============================] - 13s 264ms/step - loss: 0.6594 - accuracy: 0.6012 - val_loss: 0.6499 - val_accuracy: 0.6165\n",
      "Epoch 3/10\n",
      "50/50 [==============================] - 13s 258ms/step - loss: 0.6433 - accuracy: 0.6237 - val_loss: 0.6653 - val_accuracy: 0.5810\n",
      "Epoch 4/10\n",
      "50/50 [==============================] - 12s 232ms/step - loss: 0.6277 - accuracy: 0.6619 - val_loss: 0.6152 - val_accuracy: 0.6640\n",
      "Epoch 5/10\n",
      "50/50 [==============================] - 14s 272ms/step - loss: 0.6171 - accuracy: 0.6556 - val_loss: 0.6251 - val_accuracy: 0.6480\n",
      "Epoch 6/10\n",
      "50/50 [==============================] - 12s 240ms/step - loss: 0.5862 - accuracy: 0.6850 - val_loss: 0.6310 - val_accuracy: 0.6540\n",
      "Epoch 7/10\n",
      "50/50 [==============================] - 13s 259ms/step - loss: 0.5908 - accuracy: 0.6875 - val_loss: 0.6500 - val_accuracy: 0.6425\n",
      "Epoch 8/10\n",
      "50/50 [==============================] - 12s 243ms/step - loss: 0.5961 - accuracy: 0.6787 - val_loss: 0.5908 - val_accuracy: 0.6985\n",
      "Epoch 9/10\n",
      "50/50 [==============================] - 12s 231ms/step - loss: 0.5819 - accuracy: 0.6831 - val_loss: 0.6372 - val_accuracy: 0.6575\n",
      "Epoch 10/10\n",
      "50/50 [==============================] - 11s 222ms/step - loss: 0.5682 - accuracy: 0.7131 - val_loss: 0.6316 - val_accuracy: 0.6625\n"
     ]
    }
   ],
   "source": [
    "history = classifier.fit_generator(training_set,\n",
    "                         steps_per_epoch = 50,\n",
    "                         epochs = 10,\n",
    "                         validation_data = test_set)"
   ]
  },
  {
   "cell_type": "code",
   "execution_count": 15,
   "id": "848daada",
   "metadata": {},
   "outputs": [
    {
     "data": {
      "image/png": "[encoded data removed]",
      "text/plain": [
       "<Figure size 432x288 with 1 Axes>"
      ]
     },
     "metadata": {
      "needs_background": "light"
     },
     "output_type": "display_data"
    }
   ],
   "source": [
    "plt.plot(history.history['loss'], label='train')\n",
    "plt.plot(history.history['val_loss'], label='test')\n",
    "plt.legend()\n",
    "plt.show()"
   ]
  },
  {
   "cell_type": "code",
   "execution_count": 17,
   "id": "c34ef643",
   "metadata": {},
   "outputs": [
    {
     "name": "stdout",
     "output_type": "stream",
     "text": [
      "dog\n"
     ]
    }
   ],
   "source": [
    "test_image = image.load_img('random_dog.png', target_size = (64, 64))\n",
    "\n",
    "# converting the image to a numpy array\n",
    "test_image = image.img_to_array(test_image)\n",
    "test_image = np.expand_dims(test_image, axis = 0)\n",
    "result = classifier.predict(test_image)\n",
    "if result[0][0] >= 0.5:\n",
    "    prediction = 'dog'\n",
    "else:\n",
    "    prediction = 'cat'\n",
    "print(prediction)"
   ]
  },
  {
   "cell_type": "code",
   "execution_count": null,
   "id": "7d51be66",
   "metadata": {},
   "outputs": [],
   "source": []
  }
 ],
 "metadata": {
  "kernelspec": {
   "display_name": "Python 3",
   "language": "python",
   "name": "python3"
  },
  "language_info": {
   "codemirror_mode": {
    "name": "ipython",
    "version": 3
   },
   "file_extension": ".py",
   "mimetype": "text/x-python",
   "name": "python",
   "nbconvert_exporter": "python",
   "pygments_lexer": "ipython3",
   "version": "3.8.8"
  }
 },
 "nbformat": 4,
 "nbformat_minor": 5
}
